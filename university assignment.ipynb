{
  "cells": [
    {
      "cell_type": "code",
      "execution_count": null,
      "id": "oVeqPNrJc45i",
      "metadata": {
        "id": "oVeqPNrJc45i"
      },
      "outputs": [],
      "source": [
        "import pyspark\n",
        "from pyspark.sql import functions as F\n",
        "import pandas\n",
        "import pandas as pd\n",
        "from pyspark.sql.types import *\n",
        "import matplotlib.pyplot as plot\n",
        "import matplotlib.pyplot as pt\n",
        "import seaborn as sns\n",
        "from pyspark.ml.stat import Correlation\n",
        "from pyspark.ml.feature import VectorAssembler\n",
        "from pyspark.sql.types import *\n",
        "from pyspark.sql.types import StructType, StructField, StringType, IntegerType, DoubleType, TimestampType\n",
        "from pyspark import SparkContext\n",
        "from pyspark import SparkFiles\n",
        "from pyspark.sql import SparkSession\n",
        "import warnings\n",
        "warnings.filterwarnings(\"ignore\")"
      ]
    },
    {
      "cell_type": "code",
      "execution_count": null,
      "id": "EoBs4NQxc45j",
      "metadata": {
        "id": "EoBs4NQxc45j"
      },
      "outputs": [],
      "source": [
        "def create_spark_session_get_imports():\n",
        "    builder = pyspark.sql.SparkSession.builder.appName(\"Crime Analysis\")\n",
        "    spark = builder.getOrCreate()\n",
        "    return spark"
      ]
    },
    {
      "cell_type": "code",
      "execution_count": null,
      "id": "0mQdFIlic45j",
      "metadata": {
        "id": "0mQdFIlic45j"
      },
      "outputs": [],
      "source": [
        "spark = create_spark_session_get_imports()"
      ]
    },
    {
      "cell_type": "code",
      "execution_count": null,
      "id": "yW2Ofrpec45k",
      "metadata": {
        "id": "yW2Ofrpec45k"
      },
      "outputs": [],
      "source": [
        "spark.sparkContext.addFile(\"https://jesildaw21052449.blob.core.windows.net/jesilda21052449/deprivation_with_hdr.gz\")\n",
        "#reading deprivation data\n",
        "deprivation_data = spark.read.option(\"header\", \"true\").csv(\"file:///\" + SparkFiles.get(\"deprivation_with_hdr.gz\"))"
      ]
    },
    {
      "cell_type": "code",
      "execution_count": null,
      "id": "7eDp4r68c45k",
      "metadata": {
        "id": "7eDp4r68c45k"
      },
      "outputs": [],
      "source": [
        "spark.sparkContext.addFile(\"https://jesildaw21052449.blob.core.windows.net/jesilda21052449/all_crimes21_hdr.txt.gz\")\n",
        "#reading crime dataset data\n",
        "crime_dataset_ = spark.read.option(\"header\", \"true\").csv(\"file:///\" + SparkFiles.get(\"all_crimes21_hdr.txt.gz\"))"
      ]
    },
    {
      "cell_type": "code",
      "execution_count": null,
      "id": "WIFDJQyRc45l",
      "metadata": {
        "colab": {
          "base_uri": "https://localhost:8080/"
        },
        "id": "WIFDJQyRc45l",
        "outputId": "40ca7591-2a82-4f72-8186-ad01c72ba3a9"
      },
      "outputs": [],
      "source": [
        "print(crime_dataset_.printSchema())\n",
        "crime_dataset_.show()\n",
        "crime_dataset_.select(F.col(\"LSOA code\"), F.col(\"LSOA name\")).show(truncate=False)"
      ]
    },
    {
      "cell_type": "code",
      "execution_count": null,
      "id": "Dz6pksROc45m",
      "metadata": {
        "id": "Dz6pksROc45m"
      },
      "outputs": [],
      "source": [
        "burglary_crime_data = crime_dataset_.filter(F.col(\"Crime type\") == \"Burglary\")\n",
        "\n",
        "\n",
        "# Finding the most affluent areas using the deprivation datsets available\n",
        "deprivation_df = deprivation_data.withColumn(\"IMD SCORE\", F.col(\"IMD SCORE\").cast(\"double\"))\n",
        "\n",
        "# Here we are calculating average IMD score to find  the associated lsoa code for that area\n",
        "avg_imd_scores = deprivation_df.groupby(\"LSOA CODE\").avg(\"IMD SCORE\")\n",
        "\n",
        "# Sorting of average IMD scores in descending order to identify the more affluent areas\n",
        "sorted_imd_scores = avg_imd_scores.orderBy(\"avg(IMD SCORE)\", ascending=False)\n"
      ]
    },
    {
      "cell_type": "code",
      "execution_count": null,
      "id": "9MxPFiP1c45n",
      "metadata": {
        "colab": {
          "base_uri": "https://localhost:8080/"
        },
        "id": "9MxPFiP1c45n",
        "outputId": "ef5070df-29a0-4c44-f1ef-409fdc198357"
      },
      "outputs": [],
      "source": [
        "crime_dataset_.show(truncate=False)"
      ]
    },
    {
      "cell_type": "code",
      "execution_count": null,
      "id": "lZq0Ya4nc45n",
      "metadata": {
        "colab": {
          "base_uri": "https://localhost:8080/"
        },
        "id": "lZq0Ya4nc45n",
        "outputId": "364ff3be-30a8-41e7-b043-e825fcc50069"
      },
      "outputs": [],
      "source": [
        "crime_dataset_.printSchema()"
      ]
    },
    {
      "cell_type": "code",
      "execution_count": null,
      "id": "8KoSa8k_c45o",
      "metadata": {
        "colab": {
          "base_uri": "https://localhost:8080/"
        },
        "id": "8KoSa8k_c45o",
        "outputId": "8866df33-fec5-4e59-92a5-b5d38f5bcec7"
      },
      "outputs": [],
      "source": [
        "deprivation_df.show()"
      ]
    },
    {
      "cell_type": "code",
      "execution_count": null,
      "id": "rLHyGyjwc45o",
      "metadata": {
        "colab": {
          "base_uri": "https://localhost:8080/"
        },
        "id": "rLHyGyjwc45o",
        "outputId": "c19ae4e7-1e69-41db-da38-d276245f61a3"
      },
      "outputs": [],
      "source": [
        "deprivation_df.printSchema()"
      ]
    },
    {
      "cell_type": "code",
      "execution_count": null,
      "id": "K2CxyXXfc45o",
      "metadata": {
        "colab": {
          "base_uri": "https://localhost:8080/"
        },
        "id": "K2CxyXXfc45o",
        "outputId": "9c441cd2-4b91-4d4b-f6eb-09fb3a2b5267"
      },
      "outputs": [],
      "source": [
        "burglary_crime_data.show()"
      ]
    },
    {
      "cell_type": "code",
      "execution_count": null,
      "id": "E8RXZ7oXc45p",
      "metadata": {
        "colab": {
          "base_uri": "https://localhost:8080/"
        },
        "id": "E8RXZ7oXc45p",
        "outputId": "85367f6e-1665-4eb1-eeb0-5a1e736dbc5b"
      },
      "outputs": [],
      "source": [
        "burglary_crime_data.printSchema()"
      ]
    },
    {
      "cell_type": "code",
      "execution_count": null,
      "id": "R1dKFlbvc45p",
      "metadata": {
        "colab": {
          "base_uri": "https://localhost:8080/"
        },
        "id": "R1dKFlbvc45p",
        "outputId": "b14203e6-466c-4205-ed0f-7dccf34277b6"
      },
      "outputs": [],
      "source": [
        "sorted_imd_scores.show()"
      ]
    },
    {
      "cell_type": "code",
      "execution_count": null,
      "id": "e3oSLkBtc45q",
      "metadata": {
        "id": "e3oSLkBtc45q"
      },
      "outputs": [],
      "source": [
        "burglary_crime_data.createOrReplaceTempView(\"burglary_data\")\n",
        "sorted_imd_scores.createOrReplaceTempView(\"imd_scores\")\n",
        "\n",
        "burglary_data_with_affluent_areas = spark.sql(\"select * from burglary_data bcd join imd_scores sis on sis.`LSOA CODE` == bcd.`LSOA code`\")"
      ]
    },
    {
      "cell_type": "code",
      "execution_count": null,
      "id": "UflBnSp9c45r",
      "metadata": {
        "colab": {
          "base_uri": "https://localhost:8080/"
        },
        "id": "UflBnSp9c45r",
        "outputId": "8c6f580c-e10a-4d03-b0f3-1e338c410bf4"
      },
      "outputs": [],
      "source": [
        "burglary_data_with_affluent_areas.show()"
      ]
    },
    {
      "cell_type": "code",
      "execution_count": null,
      "id": "TsKGufsbc45r",
      "metadata": {
        "colab": {
          "base_uri": "https://localhost:8080/"
        },
        "id": "TsKGufsbc45r",
        "outputId": "e1900240-3cf8-45e3-a141-8f7b1b21bd8a"
      },
      "outputs": [],
      "source": [
        "burglary_data_with_affluent_areas.printSchema()"
      ]
    },
    {
      "cell_type": "code",
      "execution_count": null,
      "id": "jsz9ImwQc45r",
      "metadata": {
        "id": "jsz9ImwQc45r"
      },
      "outputs": [],
      "source": [
        "burglary_data_with_affluent_areas.createOrReplaceTempView(\"burglary_data_with_affluent_areas\")\n",
        "crime_order = spark.sql(\"select Month, count(*) as count from burglary_data_with_affluent_areas group by Month order by Month asc\").toPandas()\n"
      ]
    },
    {
      "cell_type": "code",
      "execution_count": null,
      "id": "1FxBOam4c45s",
      "metadata": {
        "colab": {
          "base_uri": "https://localhost:8080/",
          "height": 206
        },
        "id": "1FxBOam4c45s",
        "outputId": "d9146436-3521-4eed-ec18-b93421a10d3a"
      },
      "outputs": [],
      "source": [
        "crime_order.head()"
      ]
    },
    {
      "cell_type": "code",
      "execution_count": null,
      "id": "vu4FNuLoc45s",
      "metadata": {
        "colab": {
          "base_uri": "https://localhost:8080/",
          "height": 916
        },
        "id": "vu4FNuLoc45s",
        "outputId": "325d5f50-9ad1-408b-9b16-b5c0f97974d1"
      },
      "outputs": [],
      "source": [
        "crime_order.plot(x='Month', \n",
        "             y='count', \n",
        "             title='Burglaries over the time',xlabel=\"Year_Month\", ylabel=\"Burglaries\",  kind=\"bar\", figsize=(15, 10));\n"
      ]
    },
    {
      "cell_type": "code",
      "execution_count": null,
      "id": "zUzmA4mGc45s",
      "metadata": {
        "colab": {
          "base_uri": "https://localhost:8080/",
          "height": 206
        },
        "id": "zUzmA4mGc45s",
        "outputId": "0451912c-42ab-4c9b-9f08-6e6625a70b06"
      },
      "outputs": [],
      "source": [
        "crime_order['Month'] = pd.to_datetime(crime_order['Month'], errors='coerce')\n",
        "crime_order['year'] = crime_order['Month'].dt.year\n",
        "\n",
        "crime_order.head()"
      ]
    },
    {
      "cell_type": "code",
      "execution_count": null,
      "id": "d3jDXbG2c45t",
      "metadata": {
        "colab": {
          "base_uri": "https://localhost:8080/",
          "height": 449
        },
        "id": "d3jDXbG2c45t",
        "outputId": "c814281c-c7d8-4c49-e840-c9ef85623d7d"
      },
      "outputs": [],
      "source": [
        "fig, ax = plot.subplots()\n",
        "crime_order[['count', 'year']].plot.area(x='year', y='count', ax=ax, linewidth=0)\n",
        "ax.legend()\n",
        "ax.set_ylabel('Count of Burglaries Crime');\n",
        "ax.set_xlabel('Year');"
      ]
    },
    {
      "cell_type": "code",
      "execution_count": null,
      "id": "caVehI_dc45t",
      "metadata": {
        "id": "caVehI_dc45t"
      },
      "outputs": [],
      "source": [
        "burglary_counts = burglary_crime_data.groupby(\"LSOA code\", \"LSOA name\").count()\n",
        "\n",
        "joined_scores = burglary_counts.join(sorted_imd_scores, burglary_counts[\"LSOA code\"] == sorted_imd_scores[\"LSOA CODE\"], \"inner\")"
      ]
    },
    {
      "cell_type": "code",
      "execution_count": null,
      "id": "zMK6wZIAc45u",
      "metadata": {
        "id": "zMK6wZIAc45u"
      },
      "outputs": [],
      "source": [
        "sorted_joined_scores = joined_scores.orderBy(\"avg(IMD SCORE)\", ascending=False)\n",
        "sorted_joined_scores = sorted_joined_scores.withColumnRenamed(\"count\", \"burglaries_count\").withColumnRenamed(\"avg(IMD SCORE)\", \"imd_score\")"
      ]
    },
    {
      "cell_type": "code",
      "execution_count": null,
      "id": "yMFBgewRc45u",
      "metadata": {
        "id": "yMFBgewRc45u"
      },
      "outputs": [],
      "source": [
        "pd_dff = sorted_joined_scores.toPandas()"
      ]
    },
    {
      "cell_type": "code",
      "execution_count": null,
      "id": "RElXis56c45u",
      "metadata": {
        "colab": {
          "base_uri": "https://localhost:8080/",
          "height": 206
        },
        "id": "RElXis56c45u",
        "outputId": "caa21144-977b-45b6-9bf5-cae4cfa508c3"
      },
      "outputs": [],
      "source": [
        "pd_dff.head()"
      ]
    },
    {
      "cell_type": "code",
      "execution_count": null,
      "id": "3A4q3vX_c45u",
      "metadata": {
        "colab": {
          "base_uri": "https://localhost:8080/",
          "height": 883
        },
        "id": "3A4q3vX_c45u",
        "outputId": "0dd4bc30-6887-4b97-d75a-619589e93e4e"
      },
      "outputs": [],
      "source": [
        "pd_dff.head(n=10).plot(kind='bar' , x='LSOA name', y = [\"burglaries_count\", \"imd_score\"],stacked=True, figsize= (10,8));\n"
      ]
    },
    {
      "cell_type": "code",
      "execution_count": null,
      "id": "vvZev2Tfc46C",
      "metadata": {
        "colab": {
          "base_uri": "https://localhost:8080/",
          "height": 1000
        },
        "id": "vvZev2Tfc46C",
        "outputId": "0a1ca59a-9b3e-41f8-85ff-0e7ab91eb590"
      },
      "outputs": [],
      "source": [
        "pd_dff.head(n=50).plot(x='LSOA name', \n",
        "             y=['burglaries_count', 'imd_score'], \n",
        "             title='Crime and Affluent Areas', xlabel=\"LSOA Name\", ylabel=\"Burglaries and IMD Score\",  kind=\"bar\", figsize=(15, 10));\n"
      ]
    },
    {
      "cell_type": "code",
      "execution_count": null,
      "id": "wjfCGRsac46D",
      "metadata": {
        "colab": {
          "base_uri": "https://localhost:8080/"
        },
        "id": "wjfCGRsac46D",
        "outputId": "36e42957-e23e-46cd-c874-7adf44b81e99"
      },
      "outputs": [],
      "source": [
        "asm = VectorAssembler(inputCols=[\"burglaries_count\", \"imd_score\"], outputCol=\"co-relation\")\n",
        "feature_df = asm.transform(sorted_joined_scores).select(\"co-relation\")\n",
        "\n",
        "co_relation_matrixx = Correlation.corr(feature_df, \"co-relation\", \"spearman\")\n",
        "co_relation_matrixx.show(truncate=False)"
      ]
    },
    {
      "cell_type": "code",
      "execution_count": null,
      "id": "uZuBJ5Kqc46D",
      "metadata": {
        "id": "uZuBJ5Kqc46D"
      },
      "outputs": [],
      "source": [
        "co_relations = sorted_joined_scores.stat.corr('burglaries_count', 'imd_score')"
      ]
    },
    {
      "cell_type": "code",
      "execution_count": null,
      "id": "fFtbhuTpc46D",
      "metadata": {
        "colab": {
          "base_uri": "https://localhost:8080/"
        },
        "id": "fFtbhuTpc46D",
        "outputId": "f3c8755b-cfec-4606-d34c-40cc10eef131"
      },
      "outputs": [],
      "source": [
        "co_relations"
      ]
    },
    {
      "cell_type": "code",
      "execution_count": null,
      "id": "uJGivyfjc46E",
      "metadata": {
        "colab": {
          "base_uri": "https://localhost:8080/"
        },
        "id": "uJGivyfjc46E",
        "outputId": "0d0e2a99-eecb-49ee-d261-ee0215dbe88b"
      },
      "outputs": [],
      "source": [
        "matrixdata = co_relation_matrixx.collect()[0][0]\n",
        "matr_co_info = matrixdata.toArray().tolist()\n",
        "print(matr_co_info)"
      ]
    },
    {
      "cell_type": "code",
      "execution_count": null,
      "id": "NZwnwnA6c46E",
      "metadata": {
        "colab": {
          "base_uri": "https://localhost:8080/",
          "height": 301
        },
        "id": "NZwnwnA6c46E",
        "outputId": "77987dff-f97c-4cfa-ab56-89a824945895"
      },
      "outputs": [],
      "source": [
        "\n",
        "fig = plot.figure(figsize=(8, 6))\n",
        "ax = fig.add_subplot(2, 2, 2)\n",
        "ax.set_title(\"Relation between burglaries_count and affluent areas\")\n",
        "cax = ax.matshow(matr_co_info, vmax=1, vmin=-1)\n",
        "fig.colorbar(cax)\n",
        "plot.show()"
      ]
    }
  ],
  "metadata": {
    "colab": {
      "provenance": []
    },
    "kernelspec": {
      "display_name": "Python 3",
      "language": "python",
      "name": "python3"
    },
    "language_info": {
      "codemirror_mode": {
        "name": "ipython",
        "version": 3
      },
      "file_extension": ".py",
      "mimetype": "text/x-python",
      "name": "python",
      "nbconvert_exporter": "python",
      "pygments_lexer": "ipython3",
      "version": "3.8.5"
    }
  },
  "nbformat": 4,
  "nbformat_minor": 5
}
